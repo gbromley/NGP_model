{
 "cells": [
  {
   "cell_type": "code",
   "execution_count": 1,
   "metadata": {},
   "outputs": [],
   "source": [
    "import numpy as np\n",
    "import xarray as xr\n",
    "import matplotlib.pyplot as plt\n",
    "import matplotlib.patches as mpatches\n",
    "import f90nml\n",
    "import cartopy\n",
    "import cartopy.crs as ccrs\n",
    "import cartopy.feature as cfeature\n",
    "from cartopy.feature import ShapelyFeature\n",
    "from cartopy.io.shapereader import Reader\n",
    "\n"
   ]
  },
  {
   "cell_type": "code",
   "execution_count": null,
   "metadata": {},
   "outputs": [],
   "source": []
  },
  {
   "cell_type": "code",
   "execution_count": 2,
   "metadata": {},
   "outputs": [],
   "source": [
    "#Read in namelist, switching this to command line likely\n",
    "file = '/Users/gbromley/code/model_config/wps/12km.era5.cheyenne.namelist.wps'\n",
    "namelist_wps = f90nml.read(file)\n",
    "#read in variable for grid\n",
    "geogrid = namelist_wps['geogrid']\n",
    "geogrid = geogrid.todict()\n"
   ]
  },
  {
   "cell_type": "code",
   "execution_count": 3,
   "metadata": {},
   "outputs": [],
   "source": [
    "ref_lon = int(geogrid['ref_lon'])\n",
    "ref_lat = int(geogrid['ref_lat'])"
   ]
  },
  {
   "cell_type": "code",
   "execution_count": 13,
   "metadata": {},
   "outputs": [
    {
     "data": {
      "text/plain": [
       "-104"
      ]
     },
     "execution_count": 13,
     "metadata": {},
     "output_type": "execute_result"
    }
   ],
   "source": [
    "ref_lon"
   ]
  },
  {
   "cell_type": "code",
   "execution_count": 4,
   "metadata": {},
   "outputs": [
    {
     "data": {
      "text/plain": [
       "OrderedDict([('parent_id', 1),\n",
       "             ('parent_grid_ratio', 1),\n",
       "             ('i_parent_start', 1),\n",
       "             ('j_parent_start', 1),\n",
       "             ('e_we', 225),\n",
       "             ('e_sn', 175),\n",
       "             ('geog_data_res', 'modis_15s+modis_lai+default'),\n",
       "             ('dx', 12000),\n",
       "             ('dy', 12000),\n",
       "             ('map_proj', 'lambert'),\n",
       "             ('ref_lat', 47.0),\n",
       "             ('ref_lon', -104.0),\n",
       "             ('truelat1', 50.0),\n",
       "             ('truelat2', 40.0),\n",
       "             ('stand_lon', -104.0),\n",
       "             ('geog_data_path', '/glade/work/wrfhelp/WPS_GEOG/')])"
      ]
     },
     "execution_count": 4,
     "metadata": {},
     "output_type": "execute_result"
    }
   ],
   "source": [
    "geogrid"
   ]
  },
  {
   "cell_type": "code",
   "execution_count": 5,
   "metadata": {},
   "outputs": [],
   "source": [
    "if geogrid['map_proj']=='lambert':\n",
    "    projection = cartopy.crs.LambertConformal(\n",
    "     central_longitude = ref_lon,\n",
    "     central_latitude = ref_lat,\n",
    "     standard_parallels = (int(geogrid['truelat2']),int(geogrid['truelat1']))\n",
    "    )"
   ]
  },
  {
   "cell_type": "code",
   "execution_count": 6,
   "metadata": {},
   "outputs": [
    {
     "data": {
      "text/plain": [
       "2100000"
      ]
     },
     "execution_count": 6,
     "metadata": {},
     "output_type": "execute_result"
    }
   ],
   "source": [
    "dx = int(geogrid['dx'])\n",
    "e_we = int(geogrid['e_we'])\n",
    "e_sn = int(geogrid['e_sn'])\n",
    "(e_sn*dx)\n"
   ]
  },
  {
   "cell_type": "code",
   "execution_count": 19,
   "metadata": {},
   "outputs": [
    {
     "data": {
      "image/png": "[encoded data removed]",
      "text/plain": [
       "<Figure size 432x288 with 1 Axes>"
      ]
     },
     "metadata": {
      "needs_background": "light"
     },
     "output_type": "display_data"
    }
   ],
   "source": [
    "ax = plt.axes(projection = projection)\n",
    "ax.set_extent([(-dx*e_we)/2,(dx*e_we)/2,(-dx*e_sn)/2,(dx*e_sn)/2], crs=projection)\n",
    "#ax.add_patch(mpatches.Rectangle(xy=[1,1],width = e_we*100,height = e_sn*100,facecolor='red', alpha=0.2,transform=projection))\n",
    "ax.coastlines()\n",
    "#ax.add_feature(cfeature.NaturalEarthFeature)\n",
    "states_provinces = cfeature.NaturalEarthFeature(\n",
    "    category='cultural',\n",
    "    name='admin_1_states_provinces_lines',\n",
    "    scale='50m',\n",
    "    facecolor='none')\n",
    "ax.add_feature(states_provinces, edgecolor='black',linewidth=0.2)\n",
    "ax.add_feature(cfeature.OCEAN)\n",
    "ax.add_feature(cfeature.COASTLINE)\n",
    "ax.add_feature(cfeature.BORDERS, linestyle=':')\n",
    "ax.add_feature(cfeature.LAKES, alpha=0.5)\n",
    "ax.add_feature(cfeature.RIVERS)\n",
    "ax.add_feature(cartopy.feature.BORDERS)\n",
    "ax.add_patch(mpatches.Rectangle(xy=[-6000*225,-6000*175], width=12000*225, height=12000*175,edgecolor='red',fill=False,transform=projection))\n",
    "#ax.add_patch(mpatches.Rectangle(xy=[-290*20000,-200*20000], width = 290*20000, height = 200*20000, fill=False, edgecolor='black', transform=projection))\n",
    "shape_feature = ShapelyFeature(Reader('/Users/gbromley/Dropbox/Montana_Climate_Project/Study_Area/NGP_Study_Area/Study_Area_08_01_17.shp').geometries(),crs=ccrs.PlateCarree(), facecolor='none',edgecolor='black')\n",
    "ax.add_feature(shape_feature)\n",
    "plt.show()"
   ]
  },
  {
   "cell_type": "code",
   "execution_count": 28,
   "metadata": {},
   "outputs": [
    {
     "data": {
      "text/plain": [
       "1200000"
      ]
     },
     "execution_count": 28,
     "metadata": {},
     "output_type": "execute_result"
    }
   ],
   "source": [
    "(200-140)*20000"
   ]
  },
  {
   "cell_type": "code",
   "execution_count": 16,
   "metadata": {},
   "outputs": [
    {
     "ename": "ModuleNotFoundError",
     "evalue": "No module named 'mpl_toolkits.basemap'",
     "output_type": "error",
     "traceback": [
      "\u001b[0;31m---------------------------------------------------------------------------\u001b[0m",
      "\u001b[0;31mModuleNotFoundError\u001b[0m                       Traceback (most recent call last)",
      "\u001b[0;32m<ipython-input-16-4e15f8831b45>\u001b[0m in \u001b[0;36m<module>\u001b[0;34m\u001b[0m\n\u001b[0;32m----> 1\u001b[0;31m \u001b[0;32mfrom\u001b[0m \u001b[0mmpl_toolkits\u001b[0m\u001b[0;34m.\u001b[0m\u001b[0mbasemap\u001b[0m \u001b[0;32mimport\u001b[0m \u001b[0mBasemap\u001b[0m\u001b[0;34m\u001b[0m\u001b[0;34m\u001b[0m\u001b[0m\n\u001b[0m\u001b[1;32m      2\u001b[0m m = Basemap(width=225*12000,height=175*12000,projection='lcc',\n\u001b[1;32m      3\u001b[0m             resolution='c',lat_1=40.,lat_2=55,lat_0=49,lon_0=-104.)\n\u001b[1;32m      4\u001b[0m \u001b[0mm\u001b[0m\u001b[0;34m.\u001b[0m\u001b[0mshadedrelief\u001b[0m\u001b[0;34m(\u001b[0m\u001b[0;34m)\u001b[0m\u001b[0;34m\u001b[0m\u001b[0;34m\u001b[0m\u001b[0m\n\u001b[1;32m      5\u001b[0m \u001b[0;34m\u001b[0m\u001b[0m\n",
      "\u001b[0;31mModuleNotFoundError\u001b[0m: No module named 'mpl_toolkits.basemap'"
     ]
    }
   ],
   "source": [
    "from mpl_toolkits.basemap import Basemap\n",
    "m = Basemap(width=225*12000,height=175*12000,projection='lcc',\n",
    "            resolution='c',lat_1=40.,lat_2=55,lat_0=49,lon_0=-104.)\n",
    "m.shadedrelief()\n",
    "\n",
    "plt.show()"
   ]
  },
  {
   "cell_type": "code",
   "execution_count": null,
   "metadata": {},
   "outputs": [],
   "source": [
    "65,60 #corner start of "
   ]
  }
 ],
 "metadata": {
  "kernelspec": {
   "display_name": "Python [conda env:paper1_research]",
   "language": "python",
   "name": "conda-env-paper1_research-py"
  },
  "language_info": {
   "codemirror_mode": {
    "name": "ipython",
    "version": 3
   },
   "file_extension": ".py",
   "mimetype": "text/x-python",
   "name": "python",
   "nbconvert_exporter": "python",
   "pygments_lexer": "ipython3",
   "version": "3.6.7"
  }
 },
 "nbformat": 4,
 "nbformat_minor": 2
}
